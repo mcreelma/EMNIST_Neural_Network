{
 "cells": [
  {
   "cell_type": "markdown",
   "id": "54edff3a",
   "metadata": {},
   "source": [
    "# EMNIST Network Project\n",
    "\n",
    "## Load in libraries"
   ]
  },
  {
   "cell_type": "code",
   "execution_count": 1,
   "id": "08d50335",
   "metadata": {},
   "outputs": [],
   "source": [
    "import torch\n",
    "import torch.nn as nn\n",
    "from torch.utils.data import Dataset #, random_split   # class that processes the dataset \n",
    "from torchvision import datasets       # Gets standard data sets from internet\n",
    "from torchvision.transforms import ToTensor  #, Lambda  \n",
    "from torch.utils.data import DataLoader\n",
    "import torch.nn.functional as F\n"
   ]
  },
  {
   "cell_type": "markdown",
   "id": "01df4527",
   "metadata": {},
   "source": [
    "# Decide GPU vs. CPU"
   ]
  },
  {
   "cell_type": "code",
   "execution_count": 2,
   "id": "6dbd5a71",
   "metadata": {},
   "outputs": [
    {
     "name": "stdout",
     "output_type": "stream",
     "text": [
      "Using cpu device \n"
     ]
    }
   ],
   "source": [
    "device = 'cuda' if torch.cuda.is_available() else 'cpu'\n",
    "print('Using {} device '.format(device))"
   ]
  },
  {
   "cell_type": "code",
   "execution_count": 3,
   "id": "11413b89",
   "metadata": {},
   "outputs": [],
   "source": [
    "\n",
    "test_data = datasets.EMNIST(root = \"data\", \n",
    "                                                            split = 'balanced', \n",
    "                                                            train = False,\n",
    "                                                            download = True,\n",
    "                                                            transform = ToTensor())\n",
    "\n",
    "batch_size=10\n",
    "test_dataloader = DataLoader(test_data, \n",
    "                                                    batch_size=batch_size, \n",
    "                                                    shuffle=True)"
   ]
  },
  {
   "cell_type": "code",
   "execution_count": 4,
   "id": "341fe3cb",
   "metadata": {},
   "outputs": [],
   "source": [
    "import torch.nn.functional as F\n",
    "\n",
    "\n",
    "class NeuralNetwork(nn.Module):\n",
    "    def __init__(self):\n",
    "        super().__init__()\n",
    "        # makes 20 maps of 28x28\n",
    "        self.conv1 = nn.Conv2d(1, 20, # Channels in/Out \n",
    "                                                stride = 1, # Stride\n",
    "                                                kernel_size = 3,\n",
    "                                                padding = 1)  # Kernel\n",
    "\n",
    "        # Keep the size, add 10 more layers\n",
    "        self.conv2 = nn.Conv2d(20, 30, # Channels in/Out \n",
    "                                                stride = 1, # Stride\n",
    "                                                kernel_size = 3,\n",
    "                                                padding = 1)  # Kernel\n",
    "\n",
    "        # Downsampled and thus altering parameters\n",
    "        self.conv3 = nn.Conv2d(30  , 30 ,\n",
    "                                                    stride = 1,\n",
    "                                                    kernel_size = 3,\n",
    "                                                    padding = 1) \n",
    "\n",
    "        # Keeping size and reducing layers\n",
    "        self.conv4 = nn.Conv2d(30  , 10 ,\n",
    "                                                    stride = 1,\n",
    "                                                    kernel_size = 3,\n",
    "                                                    padding = 1) \n",
    "        # Pooling function to divide size in hafl\n",
    "        self.pool = nn.MaxPool2d(2, 2)   # 40 maps of 4x4\n",
    "        \n",
    "        # fully connected layer structure\n",
    "        self.fc1 = nn.Linear(10 * 7 * 7, 300)                          \n",
    "        self.fc2 = nn.Linear(300 , 160)                     # Added\n",
    "        self.fc3 = nn.Linear(160, 120)                       # Added    \n",
    "\n",
    "    def forward(self, x):\n",
    "        # Convolutions Period\n",
    "        # First Round\n",
    "        x = F.rrelu(self.conv1(x))\n",
    "        x = F.rrelu(self.conv2(x))\n",
    "        x = self.pool(x)\n",
    "\n",
    "        # Second Round\n",
    "        x = F.rrelu(self.conv3(x))\n",
    "        x = F.rrelu(self.conv4(x))\n",
    "        x = self.pool(x)\n",
    "        # x = self.pool(F.rrelu(self.conv3(x))) # Added\n",
    "\n",
    "        # Flatten everything in order to pass through FC Layers\n",
    "        x = torch.flatten(x, 1) # flatten all dimensions except batch\n",
    "\n",
    "        # Linear Layers\n",
    "        x = F.rrelu(self.fc1(x))\n",
    "        x = F.rrelu(self.fc2(x)) # Added \n",
    "        x = F.rrelu(self.fc3(x)) # Added\n",
    "        # x = F.softmax(self.fc4(x), dim =1) # Added\n",
    "            # Decided against softmax based on Ian/Goodfellow chapter 6 https://stats.stackexchange.com/questions/218752/relu-vs-sigmoid-vs-softmax-as-hidden-layer-neurons\n",
    "        # x = self.dropout(x) # Added \n",
    "            ## Removed because it is just elminating the random variables\n",
    "        return x\n",
    "##########################################\n",
    "\n",
    "model = NeuralNetwork().to(device)"
   ]
  },
  {
   "cell_type": "code",
   "execution_count": 5,
   "id": "8faf493a",
   "metadata": {},
   "outputs": [],
   "source": [
    "def test_loop(dataloader, model, loss_fn, valid_or_test_flag = \"valid\"):\n",
    "    size = len(dataloader.dataset)\n",
    "    test_loss, correct = 0,0\n",
    "    with torch.no_grad():\n",
    "        for X,y in dataloader:\n",
    "            X = X.to(device)\n",
    "            y = y.to(device)\n",
    "            pred = model(X)\n",
    "            test_loss += loss_fn(pred,y).item()\n",
    "            correct += (pred.argmax(1)==y).type(torch.float).sum().item()\n",
    "    test_loss /= size\n",
    "    correct /= size\n",
    "    if valid_or_test_flag == \"test\":\n",
    "        print(f\"Test Error: \\n Accuracy {(100*correct):>0.1f}%, Avg. loss: {test_loss:>8f} \\n\")\n",
    "    else: \n",
    "        print(f\"Validation Error: \\n Accuracy {(100*correct):>0.1f}%, Avg. loss: {test_loss:>8f} \\n\")"
   ]
  },
  {
   "cell_type": "code",
   "execution_count": 6,
   "id": "471d63ef",
   "metadata": {},
   "outputs": [
    {
     "data": {
      "text/plain": [
       "NeuralNetwork(\n",
       "  (conv1): Conv2d(1, 20, kernel_size=(3, 3), stride=(1, 1), padding=(1, 1))\n",
       "  (conv2): Conv2d(20, 30, kernel_size=(3, 3), stride=(1, 1), padding=(1, 1))\n",
       "  (conv3): Conv2d(30, 30, kernel_size=(3, 3), stride=(1, 1), padding=(1, 1))\n",
       "  (conv4): Conv2d(30, 10, kernel_size=(3, 3), stride=(1, 1), padding=(1, 1))\n",
       "  (pool): MaxPool2d(kernel_size=2, stride=2, padding=0, dilation=1, ceil_mode=False)\n",
       "  (fc1): Linear(in_features=490, out_features=300, bias=True)\n",
       "  (fc2): Linear(in_features=300, out_features=160, bias=True)\n",
       "  (fc3): Linear(in_features=160, out_features=120, bias=True)\n",
       ")"
      ]
     },
     "execution_count": 6,
     "metadata": {},
     "output_type": "execute_result"
    }
   ],
   "source": [
    "path = 'EMNIST_net.pth'\n",
    "model = NeuralNetwork().to(device)\n",
    "model.load_state_dict(torch.load(path))\n",
    "model.eval()"
   ]
  },
  {
   "cell_type": "code",
   "execution_count": 7,
   "id": "b15bb9b4",
   "metadata": {},
   "outputs": [
    {
     "name": "stdout",
     "output_type": "stream",
     "text": [
      "Test Error: \n",
      " Accuracy 85.5%, Avg. loss: 0.053654 \n",
      "\n"
     ]
    }
   ],
   "source": [
    "loss_fn = nn.CrossEntropyLoss()\n",
    "test_loop(test_dataloader, \n",
    "                        model, loss_fn, \n",
    "                        valid_or_test_flag = \"test\")"
   ]
  },
  {
   "cell_type": "markdown",
   "id": "d4c42ddc",
   "metadata": {},
   "source": [
    "# Plot the output progression"
   ]
  },
  {
   "cell_type": "code",
   "execution_count": 8,
   "id": "de0f9b31",
   "metadata": {},
   "outputs": [
    {
     "data": {
      "image/png": "[encoded data removed]",
      "text/plain": [
       "<Figure size 640x480 with 1 Axes>"
      ]
     },
     "metadata": {},
     "output_type": "display_data"
    }
   ],
   "source": [
    "import json\n",
    "import matplotlib.pyplot as plt\n",
    "import numpy as np\n",
    "\n",
    "def plot_validation_accuracy(validation_correct, num_epochs, validation_accuracy_xmin):\n",
    "    fig = plt.figure()\n",
    "    ax = fig.add_subplot(111)\n",
    "    ax.plot(np.arange(validation_accuracy_xmin, num_epochs), \n",
    "            [accuracy*100.0/validation_set_size\n",
    "             for accuracy in validation_correct[validation_accuracy_xmin:num_epochs]],\n",
    "            color='#2A6EA6')\n",
    "    ax.set_xlim([validation_accuracy_xmin, num_epochs])\n",
    "    ax.grid(True)\n",
    "    ax.set_xlabel('Epoch')\n",
    "    ax.set_title('Accuracy (%) on the validation data')\n",
    "    plt.show()\n",
    "\n",
    "\n",
    "def make_plots(filename, num_epochs, validation_accuracy_xmin, validation_set_size):\n",
    "    \"\"\"Load the results from ``filename``, and generate the corresponding\n",
    "    plots. \"\"\"\n",
    "    f = open(filename, \"r\")\n",
    "    validation_correct = json.load(f)\n",
    "    f.close()\n",
    "    plot_validation_accuracy(validation_correct, num_epochs, validation_accuracy_xmin)\n",
    "\n",
    "##### Open the validation and parameters #####\n",
    "f = open('EMNIST_plot_data.json', \"r\")\n",
    "validation_correct = json.load(f)\n",
    "f.close()\n",
    "\n",
    "f = open('EMNIST_plot_parameters.json', \"r\")\n",
    "[num_epochs, validation_correct_xmin, validation_set_size] = json.load(f)\n",
    "f.close()\n",
    "\n",
    "\n",
    "make_plots('EMNIST_plot_data.json', num_epochs, validation_correct_xmin,\n",
    "           validation_set_size)"
   ]
  }
 ],
 "metadata": {
  "kernelspec": {
   "display_name": "Python 3 (ipykernel)",
   "language": "python",
   "name": "python3"
  },
  "language_info": {
   "codemirror_mode": {
    "name": "ipython",
    "version": 3
   },
   "file_extension": ".py",
   "mimetype": "text/x-python",
   "name": "python",
   "nbconvert_exporter": "python",
   "pygments_lexer": "ipython3",
   "version": "3.10.6"
  },
  "vscode": {
   "interpreter": {
    "hash": "e315c7f86a17d253a6d072d6de69d65ab47ea1db8cf163bddb69875676639286"
   }
  }
 },
 "nbformat": 4,
 "nbformat_minor": 5
}
